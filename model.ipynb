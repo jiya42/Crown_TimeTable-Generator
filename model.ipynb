{
 "cells": [
  {
   "cell_type": "code",
   "execution_count": null,
   "id": "5c0ad4f3-a60f-4049-a062-40daa3ded0f3",
   "metadata": {},
   "outputs": [],
   "source": []
  },
  {
   "cell_type": "code",
   "execution_count": 5,
   "id": "f3227aac-747b-4589-a93f-73c1a4313541",
   "metadata": {},
   "outputs": [
    {
     "name": "stdin",
     "output_type": "stream",
     "text": [
      " 3\n",
      " physics\n",
      " chemistry\n",
      " maaths\n",
      " 5\n"
     ]
    }
   ],
   "source": [
    "import openai\n",
    "\n",
    "# Set your OpenAI API key\n",
    "openai.api_key = 'OPEN-API-KEY'\n",
    "\n",
    "# Example conversation with system, user, and assistant messages\n",
    "user_input_template = \"Generate a timetable for the following subjects: {}. Ensure that each that overall time limit is 5 hour and include regular breaks.\"\n",
    "subjects_list=[]\n",
    "n=int(input())\n",
    "for i in range(n):\n",
    "    subjects_list.append(input())\n",
    "# Format the user's message with a list of subjects\n",
    "user_input = user_input_template.format(\", \".join(subjects_list))\n",
    "\n",
    "maxhr=int(input())\n",
    "\n",
    "\n",
    "\n",
    "conversation = [\n",
    "    {\"role\": \"system\", \"content\": \"You are a helpful assistant.\"},\n",
    "    {\"role\": \"user\", \"content\": user_input},\n",
    "    {\"role\": \"assistant\", \"content\": \"I'll create a timetable for you with one-hour sessions for each subject and regular breaks.\"},\n",
    "    {\"role\": \"user\", \"content\": \"Great! Let's start with Mathematics.\"}\n",
    "]\n",
    "\n",
    "\n",
    "\n"
   ]
  },
  {
   "cell_type": "code",
   "execution_count": 6,
   "id": "77a5f914-424b-4030-b29a-6782abfd95e2",
   "metadata": {},
   "outputs": [],
   "source": [
    "# Send the conversation to the ChatGPT API using ChatCompletion.create\n",
    "response = openai.ChatCompletion.create(\n",
    "    model=\"gpt-3.5-turbo\",  # Specify the GPT-3.5-turbo model\n",
    "    messages=conversation\n",
    ")\n",
    "\n"
   ]
  },
  {
   "cell_type": "code",
   "execution_count": 7,
   "id": "60fde9f6-89a8-4519-bf26-9665390fd5ee",
   "metadata": {},
   "outputs": [
    {
     "name": "stdout",
     "output_type": "stream",
     "text": [
      "Here's a sample timetable for the subjects you mentioned:\n",
      "\n",
      "9:00 am - 10:00 am: Mathematics\n",
      "Break - 10:00 am - 10:15 am\n",
      "10:15 am - 11:15 am: Physics\n",
      "Break - 11:15 am - 11:30 am\n",
      "11:30 am - 12:30 pm: Chemistry\n",
      "Lunch Break - 12:30 pm - 1:30 pm\n",
      "1:30 pm - 2:30 pm: Mathematics\n",
      "Break - 2:30 pm - 2:45 pm\n",
      "2:45 pm - 3:45 pm: Physics\n",
      "Break - 3:45 pm - 4:00 pm\n",
      "4:00 pm - 5:00 pm: Chemistry\n",
      "\n",
      "This timetable allows for one hour of study for each subject, with regular breaks to rest and recharge. Feel free to adjust the timings as per your preference and study needs.\n"
     ]
    }
   ],
   "source": [
    "# Extract and print the assistant's reply\n",
    "assistant_reply = response['choices'][0]['message']['content']\n",
    "\n",
    "print(assistant_reply)"
   ]
  },
  {
   "cell_type": "code",
   "execution_count": null,
   "id": "81186787-eab9-42a0-bb1a-a3fef2602116",
   "metadata": {},
   "outputs": [],
   "source": []
  }
 ],
 "metadata": {
  "kernelspec": {
   "display_name": "Python 3 (ipykernel)",
   "language": "python",
   "name": "python3"
  },
  "language_info": {
   "codemirror_mode": {
    "name": "ipython",
    "version": 3
   },
   "file_extension": ".py",
   "mimetype": "text/x-python",
   "name": "python",
   "nbconvert_exporter": "python",
   "pygments_lexer": "ipython3",
   "version": "3.9.13"
  }
 },
 "nbformat": 4,
 "nbformat_minor": 5
}
